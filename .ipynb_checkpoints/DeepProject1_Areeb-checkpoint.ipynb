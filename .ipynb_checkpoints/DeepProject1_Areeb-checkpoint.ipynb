{
 "cells": [
  {
   "cell_type": "markdown",
   "metadata": {
    "id": "TSf8FyHbB9lB"
   },
   "source": [
    "# Introduction\n",
    "Image classification is the process of taking an input (like a picture) and outputting a class (like “cat”) or a probability that the input is a particular class (“there’s a 90% probability that this input is a cat”). You can look at a picture and know that you’re looking at a terrible shot of your own face, but how can a computer learn to do that? With a convolutional neural network!"
   ]
  },
  {
   "cell_type": "markdown",
   "metadata": {
    "id": "PjE5X0JlB9lD"
   },
   "source": [
    "-----\n",
    "# Goals\n",
    "We would like you to establish a neural network involving advance DNN modules (i.e. convolution layers, RELU, pooling and fully connection layers and etc.)  to distinguish the specific category of an input image."
   ]
  },
  {
   "cell_type": "markdown",
   "metadata": {
    "id": "AlrrZY4YB9lE"
   },
   "source": [
    "-------------\n",
    "## Packages\n",
    "Let's first import the necessary packages,"
   ]
  },
  {
   "cell_type": "code",
   "execution_count": 155,
   "metadata": {
    "id": "QEahyOabB9lF"
   },
   "outputs": [],
   "source": [
    "from __future__ import division\n",
    "\n",
    "import warnings\n",
    "from collections import namedtuple\n",
    "import torch\n",
    "import torch.nn as nn\n",
    "from torch.jit.annotations import Optional, Tuple\n",
    "from torch import Tensor\n",
    "import os\n",
    "import numpy as np\n",
    "import os.path\n",
    "from glob import glob\n",
    "from PIL import Image\n",
    "from tqdm import tqdm\n",
    "import torchvision.datasets as dset\n",
    "import torch.utils.data as data\n",
    "from ipywidgets import IntProgress"
   ]
  },
  {
   "cell_type": "markdown",
   "metadata": {
    "id": "XLsoo8gbB9lH"
   },
   "source": [
    "-----\n",
    "## GPU Device Configuration\n",
    "Then, we set up and configure our computational devices: \n",
    "Whether we use GPU or perform the calculation on CPU.\n",
    "we use the torch.devices() and torch.cude.is_available() functions to configure our computational devices"
   ]
  },
  {
   "cell_type": "code",
   "execution_count": 156,
   "metadata": {
    "colab": {
     "base_uri": "https://localhost:8080/"
    },
    "id": "-LdVoRSpB9lH",
    "outputId": "34b9d3c2-2723-49d7-8c32-ee89ebf17e87"
   },
   "outputs": [],
   "source": [
    "if torch.cuda.is_available():\n",
    "    device = torch.device('cuda')\n",
    "else:\n",
    "    device = 'cpu'\n",
    "print(device)"
   ]
  },
  {
   "cell_type": "markdown",
   "metadata": {
    "id": "Kmss1kROB9lH"
   },
   "source": [
    "-----\n",
    "## Configuration\n",
    "### hyper parameters\n",
    "We then set up and hyper parameters that need for the our model.\n",
    "we need to define several hyper parameters for our model:\n",
    "1. learning rate\n",
    "2. batch size when training\n",
    "3. batch size when testing\n",
    "4. numbper of epoches\n",
    "5. out put directory"
   ]
  },
  {
   "cell_type": "code",
   "execution_count": 157,
   "metadata": {
    "id": "CqnTvI0BB9lI"
   },
   "outputs": [],
   "source": [
    "learnRate = 0.001\n",
    "trainBatchSize = 100\n",
    "testBatchSize = 100\n",
    "epochs = 5\n",
    "out_name = \"./output\""
   ]
  },
  {
   "cell_type": "markdown",
   "metadata": {
    "id": "j0kB7bamB9lI"
   },
   "source": [
    "Create a directory if not exists\n",
    "using os.path.exists() to check whether it is exist\n",
    "using os.makedires to create a directory."
   ]
  },
  {
   "cell_type": "code",
   "execution_count": 158,
   "metadata": {
    "id": "CXYfgYjHB9lJ"
   },
   "outputs": [],
   "source": [
    "if not os.path.exists(out_name):\n",
    "    os.makedirs(out_name)"
   ]
  },
  {
   "cell_type": "markdown",
   "metadata": {
    "id": "ZAKUp_NlB9lJ"
   },
   "source": [
    "-----\n",
    "##  Data Loading\n",
    "Next, we are going to load our data. \n",
    "### We need to prepare our data:\n",
    "\n",
    "### We first import necessary librarys for data loading"
   ]
  },
  {
   "cell_type": "code",
   "execution_count": 159,
   "metadata": {
    "id": "0I9p0veFB9lK"
   },
   "outputs": [],
   "source": [
    "import torchvision.transforms as transforms\n",
    "from matplotlib import pyplot as plt"
   ]
  },
  {
   "cell_type": "markdown",
   "metadata": {
    "id": "C8Cupo8QB9lK"
   },
   "source": [
    "-----\n",
    "###  Image processing\n",
    "Then, we define a image preprocessing object that our dataloader can directly use this object to preprocess our data\n",
    "We use the pytorch API to preform the data processing.\n",
    "1. Use transforms.Compose()\n",
    "2. Use .RandomHorizontalFlip()\n",
    "3. You add any extra transforms you like.\n",
    "4. Create this transform for both training set and testting set. Note that the testing spilit do not require any transform"
   ]
  },
  {
   "cell_type": "code",
   "execution_count": 160,
   "metadata": {
    "id": "mQL92ECQB9lL"
   },
   "outputs": [],
   "source": [
    "train_transform = transforms.Compose([transforms.RandomHorizontalFlip(), transforms.ToTensor()])\n",
    "test_transform = transforms.Compose([transforms.ToTensor()])"
   ]
  },
  {
   "cell_type": "markdown",
   "metadata": {
    "id": "vmTOyytQB9lL"
   },
   "source": [
    "-----\n",
    "### We then download and prepare the data with the transforms defined above:\n",
    "1. Use command torchvision.datasets.CIFAR10() with root, train, download and transform posional arguments.\n",
    "2. Use the same command to create both train split and test split.\n",
    "3. Use torch.utils.data.DataLoader() to create the data loader based on the data we have.\n",
    "3. Use this command for both training split data loader and test split data loader"
   ]
  },
  {
   "cell_type": "code",
   "execution_count": 161,
   "metadata": {
    "colab": {
     "base_uri": "https://localhost:8080/"
    },
    "id": "a1ShBKShB9lM",
    "outputId": "a3dd73fe-f8c3-4392-cd8c-1c4c86c5425e"
   },
   "outputs": [],
   "source": [
    "train_set = dset.CIFAR10(root='./data', train=True, download=True, transform=train_transform)\n",
    "train_loader = torch.utils.data.DataLoader(dataset=train_set, batch_size=trainBatchSize, shuffle=True)\n",
    "test_set = dset.CIFAR10(root='./data', train=False, download=True, transform=test_transform)\n",
    "test_loader = torch.utils.data.DataLoader(dataset=test_set, batch_size=testBatchSize, shuffle=False)"
   ]
  },
  {
   "cell_type": "markdown",
   "metadata": {
    "id": "iYvWzTYOB9lN"
   },
   "source": [
    "-----\n",
    "##  Network\n",
    "Next, we are going to design our GoogLeNet\n",
    "### First, we define our GoogLeNet class\n",
    "### You need to refer the paper below to understand the structure.\n",
    "### https://arxiv.org/abs/1409.4842\n",
    "\n"
   ]
  },
  {
   "cell_type": "markdown",
   "metadata": {
    "id": "sO-sgrOhB9lN"
   },
   "source": [
    "------\n",
    "### Inception Module with dimension reductions (There exist many implement methods)\n",
    "1. Create a python class called Inception which inherits nn.module\n",
    "\n",
    "2. Create a init function to init this python class\n",
    "    1. Require in_planes, kernel_1_x, kernel_3_in, kernel_3_x, kernel_5_in, kernel_5_x and pool_planes 7 arguments.\n",
    "    \n",
    "    2. Consists of 4 variables b1,b2,b3,b4\n",
    "    \n",
    "    3. b1 is a block consists of 2D convolution, a 2D batch normalization layer and a ReLU activation function\n",
    "    \n",
    "    4. b2 is a block consists of two 2D convolutions, two 2D batch normalization layers and tow ReLU activation functions\n",
    "    \n",
    "    5. b3 is a block consists of two 2D convolutions, two 2D batch normalization layers and two ReLU activation functions\n",
    "    \n",
    "    6. b4 is a block consists of a Maxpooling layer, a 2D convolution, a 2D batch normalization layer and a ReLU activation function\n",
    "    \n",
    "3. Create the forward function\n",
    "\n",
    "    1. this forward function will forward the input function though every block and return the concatenation of all the output."
   ]
  },
  {
   "cell_type": "code",
   "execution_count": 162,
   "metadata": {
    "id": "KihwX5ZgB9lO"
   },
   "outputs": [],
   "source": [
    "class Inception(nn.Module):\n",
    "    def __init__(self, in_planes, kernel_1_x, kernel_3_in, kernel_3_x, kernel_5_in, kernel_5_x, pool_planes):\n",
    "        super(Inception, self).__init__()\n",
    "        # 1x1 conv branch\n",
    "        self.b1 = nn.Sequential(\n",
    "            nn.Conv2d(in_planes, kernel_1_x, kernel_size=1),\n",
    "            nn.BatchNorm2d(kernel_1_x),\n",
    "            nn.ReLU(True),\n",
    "        )\n",
    "\n",
    "        # 1x1 conv -> 3x3 conv branch\n",
    "        self.b2 = nn.Sequential(\n",
    "            #1\n",
    "            nn.Conv2d(in_planes, kernel_3_in, kernel_size=1),\n",
    "            nn.BatchNorm2d(kernel_3_in),\n",
    "            nn.ReLU(True),\n",
    "            #2\n",
    "            nn.Conv2d(kernel_3_in, kernel_3_x, kernel_size=3, padding=1),\n",
    "            nn.BatchNorm2d(kernel_3_x),\n",
    "            nn.ReLU(True)\n",
    "        )\n",
    "\n",
    "\n",
    "        # 1x1 conv -> 5x5 conv branch\n",
    "        self.b3 = nn.Sequential(\n",
    "            #1\n",
    "            nn.Conv2d(in_planes, kernel_5_in, kernel_size=1),\n",
    "            nn.BatchNorm2d(kernel_5_in),\n",
    "            nn.ReLU(True),\n",
    "            #2\n",
    "            nn.Conv2d(kernel_5_in, kernel_5_x, kernel_size=3, padding=1),\n",
    "            nn.BatchNorm2d(kernel_5_x),\n",
    "            nn.ReLU(True),\n",
    "            #3\n",
    "            nn.Conv2d(kernel_5_x, kernel_5_x, kernel_size=3, padding=1),\n",
    "            nn.BatchNorm2d(kernel_5_x),\n",
    "            nn.ReLU(True)\n",
    "        )\n",
    "\n",
    "         \n",
    "        # 3x3 pool -> 1x1 conv branch\n",
    "        self.b4 = nn.Sequential(\n",
    "            nn.MaxPool2d(kernel_size=3, stride=1, padding=1),\n",
    "            nn.Conv2d(in_planes, pool_planes, kernel_size=1),\n",
    "            nn.BatchNorm2d(pool_planes),\n",
    "            nn.ReLU(True)\n",
    "        )\n",
    "\n",
    "    def forward(self, x):\n",
    "      out_b1 = self.b1(x)\n",
    "      out_b2 = self.b2(x)\n",
    "      out_b3 = self.b3(x)\n",
    "      out_b4 = self.b4(x)\n",
    "      all_out = torch.cat([out_b1, out_b2, out_b3, out_b4], dim=1)\n",
    "      return all_out\n"
   ]
  },
  {
   "cell_type": "markdown",
   "metadata": {
    "id": "3FTvn21xB9lO"
   },
   "source": [
    "-----\n",
    "### GoogLeNet Module (There exist many implement methods)"
   ]
  },
  {
   "cell_type": "markdown",
   "metadata": {
    "id": "7NcqAIJOB9lP"
   },
   "source": [
    "\n",
    "1. Create a python class called GoogLeNet which inherits nn.module\n",
    "\n",
    "2. Create a init function to init this python class\n",
    "\n",
    "    1. Consists of a variables that serves as all layers before the inception, which contains a 2D convolution with padding=1, kernel_size=3 output channel=192, a 2D batch normalization layer and a ReLU activation fucntion.\n",
    "    \n",
    "    2. Two Inception blocks\n",
    "    \n",
    "    3. Maxpooling layer\n",
    "    \n",
    "    4. Five Inception blocks\n",
    "    \n",
    "    5. Maxpooling layer\n",
    "    \n",
    "    6. Two Inception blocks  \n",
    "    \n",
    "    7. Average Pooling layer\n",
    "    \n",
    "    8. A fully connected layer.\n",
    "    \n",
    "3. Create the forward function\n",
    "\n",
    "    1. this forward function will forward the input function though every block and return the output"
   ]
  },
  {
   "cell_type": "code",
   "execution_count": 163,
   "metadata": {
    "id": "WC1bP62FB9lP"
   },
   "outputs": [],
   "source": [
    "class GoogLeNet(nn.Module):\n",
    "\n",
    "    def __init__(self):\n",
    "        super(GoogLeNet, self).__init__()\n",
    "\n",
    "        #1. Consists of a variables that serves as all layers before the inception, which contains a 2D convolution with padding=1, \n",
    "        # kernel_size=3 output channel=192, a 2D batch normalization layer and a ReLU activation fucntion.\n",
    "        self.pre_inception = nn.Sequential(\n",
    "            nn.Conv2d(3, 192, kernel_size=3, padding=1),\n",
    "            nn.BatchNorm2d(192),\n",
    "            nn.ReLU(True)\n",
    "        )\n",
    "        \n",
    "        #2. Two Inception block\n",
    "        self.incept1 = Inception(192,  64,  96, 128, 16, 32, 32)\n",
    "        self.incept2 = Inception(256, 128, 128, 192, 32, 96, 64)\n",
    "\n",
    "        #3. Maxpooling layer\n",
    "        self.maxpool_1 = nn.MaxPool2d(kernel_size=3, stride=2, padding=1)\n",
    "\n",
    "        #4. Five Inception block\n",
    "        self.incept3 = Inception(480, 192,  96, 208, 16,  48,  64)\n",
    "        self.incept4 = Inception(512, 160, 112, 224, 24,  64,  64)\n",
    "        self.incept5 = Inception(512, 128, 128, 256, 24,  64,  64)\n",
    "        self.incept6 = Inception(512, 112, 144, 288, 32,  64,  64)\n",
    "        self.incept7 = Inception(528, 256, 160, 320, 32, 128, 128)\n",
    "\n",
    "        #5. Maxpooling layer\n",
    "        self.maxpool_2 = nn.MaxPool2d(kernel_size=3, stride=2, padding=1)\n",
    "\n",
    "        #6. Two Inception block\n",
    "        self.incept8 = Inception(832, 256, 160, 320, 32, 128, 128)\n",
    "        self.incept9 = Inception(832, 384, 192, 384, 48, 128, 128)\n",
    "\n",
    "        #7. Average Pooling layer\n",
    "        self.avgpool = nn.AvgPool2d(kernel_size=8, stride=1)\n",
    "\n",
    "        #8. Fully Connected Layer\n",
    "        self.fc_layer = nn.Linear(1024, 10) #10 classes in CIFAR-10\n",
    "\n",
    "    #this forward function will forward the input function though every block and return the output\n",
    "    def forward(self,x):\n",
    "\n",
    "      x = self.pre_inception(x)\n",
    "      x = self.incept1(x)\n",
    "      x = self.incept2(x)\n",
    "      x = self.maxpool_1(x)\n",
    "      x = self.incept3(x)\n",
    "      x = self.incept4(x)\n",
    "      x = self.incept5(x)\n",
    "      x = self.incept6(x)\n",
    "      x = self.incept7(x)\n",
    "      x = self.maxpool_2(x)\n",
    "      x = self.incept8(x)\n",
    "      x = self.incept9(x)\n",
    "      x = self.avgpool(x)\n",
    "      x = x.view(x.size(0), -1)\n",
    "      x = self.fc_layer(x)\n",
    "    \n",
    "      return x\n",
    "\n"
   ]
  },
  {
   "cell_type": "markdown",
   "metadata": {
    "id": "jNCGs_OwB9lQ"
   },
   "source": [
    "### Next, we create the network and send it to the target device"
   ]
  },
  {
   "cell_type": "code",
   "execution_count": 164,
   "metadata": {
    "colab": {
     "base_uri": "https://localhost:8080/"
    },
    "id": "VQHzjYRXB9lQ",
    "outputId": "789a35c3-9101-46ff-d7ff-67c636f2a9c5"
   },
   "outputs": [],
   "source": [
    "googlenetwork = GoogLeNet()\n",
    "googlenetwork.to(device)"
   ]
  },
  {
   "cell_type": "markdown",
   "metadata": {
    "id": "-6vfBPwcB9lQ"
   },
   "source": [
    "### Finally, We create:\n",
    " 1. an optimizer  (we use adam optimzer here)\n",
    " 2. A Criterion (CrossEntropy) function\n",
    " 3. A Scheduler which is used to decays the learning rate of each parameter group by gamma once the number of epoch reaches one of the milestones."
   ]
  },
  {
   "cell_type": "code",
   "execution_count": 165,
   "metadata": {
    "id": "KYcxjEjyB9lR"
   },
   "outputs": [],
   "source": [
    "#1. an optimizer (we use adam optimzer here)\n",
    "optimizer = torch.optim.Adam(googlenetwork.parameters(), lr=learnRate)\n",
    "#2. A Criterion (CrossEntropy) function\n",
    "criterion = nn.CrossEntropyLoss()\n",
    "#3. A Scheduler which is used to decays the learning rate of each parameter group by gamma once the number of epoch reaches one of the milestones.\n",
    "scheduler = torch.optim.lr_scheduler.MultiStepLR(optimizer, milestones=[50, 10], gamma=0.5)"
   ]
  },
  {
   "cell_type": "markdown",
   "metadata": {
    "id": "WWtONbzXB9lR"
   },
   "source": [
    "-----\n",
    "##  Training\n",
    "Then, we are going to train our Network\n",
    "\n",
    "1. Set our network to the training model.\n",
    "2. Init the train loss, total data and number corrected predictions. \n",
    "3. For each data in the training split\n",
    "    1. Put the data to the correct devices using .to()\n",
    "    2. Reset the gradient of the optimzier.\n",
    "    3. Feed the data forward to the google net\n",
    "    4. Use the criterion function to compute the loss term\n",
    "    5. Backprop the loss\n",
    "    6. Update the network parameters using the optimzier\n",
    "    7. Accumulate the training loss\n",
    "    8. Find the prediciton. hint: using torch.max()\n",
    "    9. Increment the data size\n",
    "    10. Increment the corrected prediction\n",
    "    11. Print log\n",
    "    \n",
    "-----\n",
    "##  Testing\n",
    "Then, we are going to test our module\n",
    "\n",
    "1. Set our network to the test model.\n",
    "2. Init the test loss, total data and number corrected predictions. \n",
    "3. For each data in the training split, we warp it using torch.no_grad()\n",
    "    1. Put the data to the correct devices using .to()\n",
    "    2. Feed the data forward to the google net\n",
    "    3. Use the criterion function to compute the loss term\n",
    "    4. Accumulate the training loss\n",
    "    5. Find the prediciton. hint: using torch.max()\n",
    "    6. Increment the data size\n",
    "    7. Increment the corrected prediction\n",
    "    8. Print log\n",
    "\n",
    "-----\n",
    "##  Epochs:\n",
    "For each epoch:\n",
    "1. we first step our scheduler\n",
    "2. we train our module\n",
    "3. we test our module\n",
    "4. we update the testing accuracy\n",
    "5. we save the module at the end and print the accuracy"
   ]
  },
  {
   "cell_type": "code",
   "execution_count": 166,
   "metadata": {
    "id": "EFccNgu4B9lR"
   },
   "outputs": [],
   "source": [
    "def train():\n",
    "        \n",
    "    # Set our network to the training model.\n",
    "    googlenetwork.train()\n",
    "\n",
    "    # Init the train loss, total data and number corrected predictions.\n",
    "    loss_train = 0\n",
    "    total_train_data = 0\n",
    "    correct_pred_train = 0\n",
    "\n",
    "    # For each data in the training split\n",
    "    for j, data in enumerate(train_loader):\n",
    "\n",
    "        inputs, labels = data\n",
    "        # Put the data to the correct devices using .to()\n",
    "        inputs = inputs.to(device)\n",
    "        labels = labels.to(device)\n",
    "\n",
    "        # Reset the gradient of the optimzier.\n",
    "        optimizer.zero_grad()\n",
    "\n",
    "        # Feed the data forward to the google net\n",
    "        feedForward = googlenetwork(inputs)\n",
    "\n",
    "        # Use the criterion function to compute the loss term\n",
    "        entropyLoss = criterion(feedForward, labels)\n",
    "\n",
    "        # Backprop the loss\n",
    "        entropyLoss.backward()\n",
    "\n",
    "        # Update the network parameters using the optimzier\n",
    "        optimizer.step()\n",
    "\n",
    "        # Accumulate the training loss\n",
    "        loss_train = loss_train + entropyLoss.item()\n",
    "\n",
    "        # Find the prediciton. hint: using torch.max()\n",
    "        _, pred = torch.max(feedForward.data, 1)\n",
    "\n",
    "        # Increment the data size\n",
    "        total_train_data = total_train_data + labels.size(0)\n",
    "\n",
    "        #Increment the corrected prediction\n",
    "        correct_pred_train = correct_pred_train+ (pred == labels).sum().item()\n",
    "\n",
    "    # Set our network to the test model\n",
    "    googlenetwork.eval()\n",
    "\n",
    "    # Init the test loss, total data and number corrected predictions.\n",
    "    loss_test = 0\n",
    "    total_test_data = 0\n",
    "    correct_pred_test = 0\n",
    "\n",
    "    # For each data in the testing split, we warp it using torch.no_grad()\n",
    "    with torch.no_grad():            \n",
    "        for j, data in enumerate(test_loader):\n",
    "\n",
    "            inputs, labels = data\n",
    "            # Put the data to the correct devices using .to()\n",
    "            inputs = inputs.to(device)\n",
    "            labels = labels.to(device)\n",
    "\n",
    "            # Feed the data forward to the google net\n",
    "            feedForward = googlenetwork(inputs)\n",
    "\n",
    "            # Use the criterion function to compute the loss term\n",
    "            entropyLoss = criterion(feedForward, labels)\n",
    "\n",
    "            # Accumulate the training loss\n",
    "            loss_test = loss_test + entropyLoss.item()\n",
    "\n",
    "            # Find the prediciton. hint: using torch.max()\n",
    "            _, pred = torch.max(feedForward.data, 1)\n",
    "\n",
    "            # Increment the data size\n",
    "            total_test_data = total_test_data + labels.size(0)\n",
    "\n",
    "            # Increment the corrected prediction\n",
    "            correct_pred_test = correct_pred_test + (pred == labels).sum().item()\n",
    "\n",
    "    acc_train = (correct_pred_train/total_train_data) * 100\n",
    "    acc_test = (correct_pred_test/total_test_data) * 100\n",
    "\n",
    "\n",
    "    return acc_train, acc_test, loss_train, loss_test"
   ]
  },
  {
   "cell_type": "code",
   "execution_count": 167,
   "metadata": {},
   "outputs": [],
   "source": [
    "train_acc = []\n",
    "test_acc = []\n",
    "train_loss = []\n",
    "test_loss = []\n",
    "\n",
    "for i in range(epochs):\n",
    "    print('\\nEpoch: {}'.format(i))\n",
    "    \n",
    "    acc_train, acc_test, loss_train, loss_test = train()\n",
    "    \n",
    "    train_acc.append(acc_train)\n",
    "    test_acc.append(acc_test)\n",
    "    train_loss.append(loss_train)\n",
    "    test_loss.append(loss_test)\n",
    "\n",
    "    print('Train Accuracy = {:.3f}%'.format(acc_train), end=' | ')\n",
    "    print('Train Loss = {:.5f}'.format(loss_train))\n",
    "\n",
    "    print('Test Accuracy  = {:.3f}%'.format(acc_test), end=' | ')\n",
    "    print('Test Loss  = {:.5f}'.format(loss_test))"
   ]
  },
  {
   "cell_type": "code",
   "execution_count": null,
   "metadata": {},
   "outputs": [],
   "source": [
    "print(acc_train)"
   ]
  },
  {
   "cell_type": "code",
   "execution_count": null,
   "metadata": {
    "colab": {
     "base_uri": "https://localhost:8080/",
     "height": 392
    },
    "id": "FDdZ5UB1BA57",
    "outputId": "30d91105-8467-43a1-ae2a-dd011a4fa266"
   },
   "outputs": [],
   "source": [
    "x_axis = [i for i in range(epochs)]\n",
    "plt.plot(x_axis, train_loss, label='Training Loss')\n",
    "plt.plot(x_axis, test_loss, label='Testing Loss')\n",
    "plt.legend()\n",
    "plt.show()"
   ]
  },
  {
   "cell_type": "code",
   "execution_count": null,
   "metadata": {},
   "outputs": [],
   "source": []
  }
 ],
 "metadata": {
  "colab": {
   "provenance": []
  },
  "kernelspec": {
   "display_name": "Python 3 (ipykernel)",
   "language": "python",
   "name": "python3"
  },
  "language_info": {
   "codemirror_mode": {
    "name": "ipython",
    "version": 3
   },
   "file_extension": ".py",
   "mimetype": "text/x-python",
   "name": "python",
   "nbconvert_exporter": "python",
   "pygments_lexer": "ipython3",
   "version": "3.11.3"
  }
 },
 "nbformat": 4,
 "nbformat_minor": 1
}
